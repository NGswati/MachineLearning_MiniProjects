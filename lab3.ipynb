{
 "cells": [
  {
   "cell_type": "markdown",
   "metadata": {},
   "source": [
    "LOGISTIC REGRESSION"
   ]
  },
  {
   "cell_type": "markdown",
   "metadata": {},
   "source": [
    "1.(a) Split the Diabetes Prediction dataset into training 80% and\n",
    "testing 20% sets."
   ]
  },
  {
   "cell_type": "code",
   "execution_count": 14,
   "metadata": {},
   "outputs": [],
   "source": [
    "import pandas as pd\n",
    "from sklearn.model_selection import train_test_split\n",
    "import numpy as np"
   ]
  },
  {
   "cell_type": "code",
   "execution_count": 15,
   "metadata": {},
   "outputs": [
    {
     "name": "stdout",
     "output_type": "stream",
     "text": [
      "Training set shapes - X_train: (80000, 8)  y_train: (80000,)\n",
      "Testing set shapes - X_test: (20000, 8)  y_test: (20000,)\n"
     ]
    }
   ],
   "source": [
    "dataset = pd.read_csv('diabetes_prediction_dataset.csv')\n",
    "\n",
    "X = dataset.drop('diabetes', axis=1)\n",
    "y = dataset['diabetes']\n",
    "\n",
    "\n",
    "X_train, X_test, y_train, y_test = train_test_split(X, y, test_size=0.2, random_state=42)\n",
    "\n",
    "print(\"Training set shapes - X_train:\",X_train.shape, \" y_train:\", y_train.shape)\n",
    "print(\"Testing set shapes - X_test:\", X_test.shape, \" y_test:\", y_test.shape)\n"
   ]
  },
  {
   "cell_type": "code",
   "execution_count": null,
   "metadata": {},
   "outputs": [],
   "source": []
  },
  {
   "cell_type": "markdown",
   "metadata": {},
   "source": [
    "1.(b) Write a code to implement logistic regression for without using the in-built library."
   ]
  },
  {
   "cell_type": "code",
   "execution_count": 16,
   "metadata": {},
   "outputs": [],
   "source": [
    "from sklearn.metrics import confusion_matrix\n",
    "import numpy as np\n",
    "import pandas as pd"
   ]
  },
  {
   "cell_type": "code",
   "execution_count": 17,
   "metadata": {},
   "outputs": [],
   "source": [
    "dataset = pd.read_csv('diabetes_prediction_dataset.csv')\n",
    "\n",
    "dataset = dataset.drop('smoking_history', axis=1)\n",
    "X = dataset.iloc[:, :-1].values\n",
    "y = dataset.iloc[:, -1].values\n",
    "\n",
    "for i in range(X.shape[0]):\n",
    "    if (X[i][0] == 'Female'):\n",
    "        X[i][0] = 1\n",
    "    else:\n",
    "        X[i][0] = 0\n",
    "\n",
    "\n",
    "X_train, X_test, y_train, y_test = train_test_split(X, y, test_size=0.20, random_state=42)\n",
    "\n",
    "Learning_rate = 0.01\n",
    "cols = X_train.shape[1]\n",
    "m_initial = np.zeros(cols)\n",
    "c_initial = 0\n",
    "\n",
    "no_of_iterations = 100"
   ]
  },
  {
   "cell_type": "code",
   "execution_count": 18,
   "metadata": {},
   "outputs": [
    {
     "name": "stdout",
     "output_type": "stream",
     "text": [
      "Accuracy: 0.9415\n",
      "Confusion Matrix: \n",
      " [[18292     0]\n",
      " [ 1170   538]]\n"
     ]
    }
   ],
   "source": [
    "def gradient_descent(m_initial, c_initial, Learning_rate, no_of_iterations):\n",
    "    m = m_initial\n",
    "    c = c_initial\n",
    "    for i in range(no_of_iterations):\n",
    "        for j in range(X_train.shape[0]):\n",
    "            z = np.sum(X_train[j] * m) + c\n",
    "            y_pred = 1 / (1 + np.exp(-z))  # Sigmoid function\n",
    "            D_m = np.sum(X_train[j] * (y_pred - y_train[j]))\n",
    "            D_c = y_pred - y_train[j]\n",
    "\n",
    "            m -= (Learning_rate * D_m) / cols\n",
    "            c -= (Learning_rate * D_c) / cols\n",
    "\n",
    "    return m, c\n",
    "\n",
    "\n",
    "optimal_m, optimal_c = gradient_descent(m_initial, c_initial, Learning_rate, no_of_iterations)\n",
    "\n",
    "\n",
    "def Y_Pred(optimal_m, optimal_c, X_test):\n",
    "    y_pred = np.array([])\n",
    "    threshold = 0.5\n",
    "    for i in range(X_test.shape[0]):\n",
    "        z = np.sum(X_test[i] * optimal_m) + optimal_c\n",
    "        a = 1 / (1 + np.exp(-z))  # Sigmoid function\n",
    "        a = a >= threshold\n",
    "        y_pred = np.append(y_pred, a)\n",
    "    return y_pred\n",
    "\n",
    "\n",
    "y = Y_Pred(optimal_m, optimal_c, X_test)\n",
    "\n",
    "\n",
    "accuracy = np.mean(y == y_test)\n",
    "print(\"Accuracy:\", accuracy)\n",
    "\n",
    "cm = confusion_matrix(y_test, y)\n",
    "print(\"Confusion Matrix: \\n\", cm)"
   ]
  },
  {
   "cell_type": "markdown",
   "metadata": {},
   "source": [
    "2. (a) Implement the logistic regression model on Iris dataset by using in-built library. Divide the dataset into training and testing sets in the ratio of 90:10"
   ]
  },
  {
   "cell_type": "code",
   "execution_count": 19,
   "metadata": {},
   "outputs": [
    {
     "name": "stdout",
     "output_type": "stream",
     "text": [
      "Confusion Matrix: \n",
      " [[6 0 0]\n",
      " [0 6 0]\n",
      " [0 0 3]]\n",
      "Accuracy: 1.0\n"
     ]
    }
   ],
   "source": [
    "import numpy as np\n",
    "from sklearn.model_selection import train_test_split\n",
    "from sklearn.linear_model import LogisticRegression\n",
    "import pandas as pd\n",
    "from sklearn.metrics import accuracy_score\n",
    "\n",
    "dataset = pd.read_csv('iris.csv')\n",
    "\n",
    "X = dataset.drop('species', axis=1)\n",
    "y = dataset['species']\n",
    "\n",
    "X_train, X_test, y_train, y_test = train_test_split(X, y, test_size=0.1, random_state=42)\n",
    "\n",
    "\n",
    "model = LogisticRegression()\n",
    "\n",
    "model.fit(X_train, y_train)\n",
    "y_pred = model.predict(X_test)\n",
    "\n",
    "cm = confusion_matrix(y_test, y_pred)\n",
    "print(\"Confusion Matrix: \\n\", cm)\n",
    "\n",
    "accuracy = accuracy_score(y_test, y_pred)\n",
    "print(f\"Accuracy: {accuracy:.1f}\")\n"
   ]
  },
  {
   "cell_type": "markdown",
   "metadata": {},
   "source": []
  },
  {
   "cell_type": "code",
   "execution_count": null,
   "metadata": {},
   "outputs": [],
   "source": []
  }
 ],
 "metadata": {
  "kernelspec": {
   "display_name": "base",
   "language": "python",
   "name": "python3"
  },
  "language_info": {
   "codemirror_mode": {
    "name": "ipython",
    "version": 3
   },
   "file_extension": ".py",
   "mimetype": "text/x-python",
   "name": "python",
   "nbconvert_exporter": "python",
   "pygments_lexer": "ipython3",
   "version": "3.9.15"
  },
  "orig_nbformat": 4
 },
 "nbformat": 4,
 "nbformat_minor": 2
}
