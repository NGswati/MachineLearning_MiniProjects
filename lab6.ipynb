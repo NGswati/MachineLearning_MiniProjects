{
 "cells": [
  {
   "cell_type": "markdown",
   "metadata": {},
   "source": []
  },
  {
   "cell_type": "code",
   "execution_count": 1,
   "metadata": {},
   "outputs": [
    {
     "name": "stdout",
     "output_type": "stream",
     "text": [
      "Accuracy: 1.0\n",
      "Classification Report:\n",
      "               precision    recall  f1-score   support\n",
      "\n",
      "           0       1.00      1.00      1.00        10\n",
      "           1       1.00      1.00      1.00         9\n",
      "           2       1.00      1.00      1.00        11\n",
      "\n",
      "    accuracy                           1.00        30\n",
      "   macro avg       1.00      1.00      1.00        30\n",
      "weighted avg       1.00      1.00      1.00        30\n",
      "\n"
     ]
    }
   ],
   "source": [
    "import pandas as pd\n",
    "from sklearn.model_selection import train_test_split\n",
    "from sklearn.svm import SVC\n",
    "from sklearn.metrics import accuracy_score, classification_report\n",
    "\n",
    "data = pd.read_csv('iris.csv', header=None, names=['sepal_length', 'sepal_width', 'petal_length', 'petal_width', 'class'])\n",
    "\n",
    "class_mapping = {'setosa': 0, 'versicolor': 1, 'virginica': 2}\n",
    "data['class'] = data['class'].map(class_mapping)\n",
    "\n",
    "X = data.iloc[:, :-1]\n",
    "y = data['class']\n",
    "\n",
    "X_train, X_test, y_train, y_test = train_test_split(X, y, test_size=0.2, random_state=42)\n",
    "\n",
    "svm_classifier = SVC(kernel='linear', C=1.0)\n",
    "\n",
    "svm_classifier.fit(X_train, y_train)\n",
    "\n",
    "y_pred = svm_classifier.predict(X_test)\n",
    "\n",
    "accuracy = accuracy_score(y_test, y_pred)\n",
    "classification_report_str = classification_report(y_test, y_pred)\n",
    "\n",
    "print(f\"Accuracy: {accuracy}\")\n",
    "print(\"Classification Report:\\n\", classification_report_str)\n"
   ]
  },
  {
   "cell_type": "code",
   "execution_count": 13,
   "metadata": {},
   "outputs": [
    {
     "name": "stdout",
     "output_type": "stream",
     "text": [
      "Model is valid: True\n",
      "+----------+--------------+\n",
      "| Marks    |   phi(Marks) |\n",
      "+==========+==============+\n",
      "| Marks(0) |       0.8800 |\n",
      "+----------+--------------+\n",
      "| Marks(1) |       0.1200 |\n",
      "+----------+--------------+\n"
     ]
    }
   ],
   "source": [
    "from pgmpy.models import BayesianModel\n",
    "from pgmpy.estimators import ParameterEstimator, MaximumLikelihoodEstimator\n",
    "from pgmpy.inference import VariableElimination\n",
    "from pgmpy.factors.discrete import TabularCPD\n",
    "\n",
    "model = BayesianModel([('ExamLevel', 'Marks'), ('IQLevel', 'Marks'),('IQLevel', 'AptiScore'), ('Marks', 'Admission')])\n",
    "\n",
    "cpt_exam_level = TabularCPD(variable='ExamLevel', variable_card=2, values=[[0.7], [0.3]])\n",
    "\n",
    "cpt_iq_level = TabularCPD(variable='IQLevel', variable_card=2, values=[[0.8], [0.2]])\n",
    "\n",
    "cpt_marks = TabularCPD(variable='Marks', variable_card=2,\n",
    "                       values=[[0.6, 0.9, 0.5, 0.8],[0.4, 0.1, 0.5, 0.2]],\n",
    "                       evidence=['IQLevel', 'ExamLevel'],\n",
    "                       evidence_card=[2, 2])\n",
    "\n",
    "cpt_apti_score = TabularCPD(variable='AptiScore', variable_card=2,\n",
    "                            values=[[0.75, 0.4],[0.25, 0.6]],\n",
    "                            evidence=['IQLevel'],\n",
    "                            evidence_card=[2])\n",
    "\n",
    "cpt_admission = TabularCPD(variable='Admission', variable_card=2,\n",
    "                           values=[[0.6, 0.9],[0.4, 0.1]],\n",
    "                           evidence=['Marks'],\n",
    "                           evidence_card=[2])\n",
    "\n",
    "model.add_cpds(cpt_exam_level, cpt_iq_level, cpt_marks,cpt_apti_score, cpt_admission)\n",
    "\n",
    "print(\"Model is valid:\", model.check_model())\n",
    "\n",
    "inference = VariableElimination(model)\n",
    "result = inference.query(variables=['Marks'], evidence={'ExamLevel': 1})\n",
    "print(result)\n"
   ]
  },
  {
   "cell_type": "code",
   "execution_count": null,
   "metadata": {},
   "outputs": [],
   "source": []
  }
 ],
 "metadata": {
  "kernelspec": {
   "display_name": "base",
   "language": "python",
   "name": "python3"
  },
  "language_info": {
   "codemirror_mode": {
    "name": "ipython",
    "version": 3
   },
   "file_extension": ".py",
   "mimetype": "text/x-python",
   "name": "python",
   "nbconvert_exporter": "python",
   "pygments_lexer": "ipython3",
   "version": "3.9.15"
  },
  "orig_nbformat": 4
 },
 "nbformat": 4,
 "nbformat_minor": 2
}
