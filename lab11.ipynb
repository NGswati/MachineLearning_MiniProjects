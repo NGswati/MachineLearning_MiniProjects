{
 "cells": [
  {
   "cell_type": "markdown",
   "metadata": {},
   "source": [
    "#Question 1"
   ]
  },
  {
   "cell_type": "code",
   "execution_count": 16,
   "metadata": {},
   "outputs": [
    {
     "name": "stdout",
     "output_type": "stream",
     "text": [
      "Output for learning rate 0.5: [0.30031301 0.46254176]\n",
      "Output for learning rate 0.1: [0.30045004 0.45854298]\n",
      "Output for learning rate 0.01: [0.46405759 0.60910762]\n"
     ]
    }
   ],
   "source": [
    "import numpy as np\n",
    "\n",
    "def sigmoid(x):\n",
    "    return 1 / (1 + np.exp(-x))\n",
    "\n",
    "def sigmoid_derivative(x):\n",
    "    return x * (1 - x)\n",
    "input_values = np.array([0.3, 0.8])\n",
    "output_values = np.array([0.05, 0.6])\n",
    "\n",
    "input_bias = 1\n",
    "hidden_bias = 1\n",
    "\n",
    "weights_input_hidden = np.array([[0.1, 0.3],\n",
    "                                 [0.25, 0.8]])\n",
    "\n",
    "weights_hidden_output = np.array([[0.2, 0.6],\n",
    "                                  [0.4, 0.7]])\n",
    "def forward_propagation(inputs, weights, bias):\n",
    "    weighted_sum = np.dot(inputs, weights) + bias\n",
    "    activated_output = sigmoid(weighted_sum)\n",
    "    return activated_output\n",
    "\n",
    "def backward_propagation(inputs, weights, error, learning_rate):\n",
    "    gradient = error * sigmoid_derivative(inputs)\n",
    "    weights += learning_rate * np.dot(inputs.T, gradient)\n",
    "    return weights\n",
    "\n",
    "def train_neural_network(inputs, target_outputs, weights_input_hidden, weights_hidden_output, learning_rate, epochs):\n",
    "    for epoch in range(epochs):\n",
    "        hidden_layer_input = forward_propagation(inputs, weights_input_hidden, input_bias)\n",
    "        hidden_layer_output = forward_propagation(hidden_layer_input, weights_hidden_output, hidden_bias)\n",
    "\n",
    "        output_error = target_outputs - hidden_layer_output\n",
    "\n",
    "        weights_hidden_output = backward_propagation(hidden_layer_output, weights_hidden_output, output_error, learning_rate)\n",
    "\n",
    "        hidden_layer_error = output_error.dot(weights_hidden_output.T)\n",
    "        weights_input_hidden = backward_propagation(hidden_layer_input, weights_input_hidden, hidden_layer_error, learning_rate)\n",
    "\n",
    "    return hidden_layer_output\n",
    "\n",
    "learning_rates = [0.5, 0.1, 0.01]\n",
    "epochs = 1000\n",
    "\n",
    "for lr in learning_rates:\n",
    "    trained_output = train_neural_network(input_values, output_values, weights_input_hidden.copy(), weights_hidden_output.copy(), lr, epochs)\n",
    "    print(f\"Output for learning rate {lr}: {trained_output}\")\n"
   ]
  },
  {
   "cell_type": "markdown",
   "metadata": {},
   "source": [
    "#Question 2\n"
   ]
  },
  {
   "cell_type": "code",
   "execution_count": 10,
   "metadata": {},
   "outputs": [
    {
     "name": "stdout",
     "output_type": "stream",
     "text": [
      "Predicted Output using scikit-learn:\n",
      "[[0.04995825 0.59999627]]\n",
      "\n",
      "Weights (input to hidden):\n",
      "[[ 0.51807946  0.60718665]\n",
      " [-0.3486503  -0.40629359]]\n",
      "\n",
      "Weights (hidden to output):\n",
      "[[ 0.0775806   0.51058608]\n",
      " [-0.51972602  0.09655711]]\n",
      "\n",
      "Intercepts (biases):\n",
      "[array([-0.4867019 , -0.31918069]), array([0.22352152, 0.38294377])]\n",
      "\n",
      "Mean Squared Error: 8.786432649507512e-10\n",
      "Predicted Output using scikit-learn:\n",
      "[[0.0423628  0.62204135]]\n",
      "\n",
      "Weights (input to hidden):\n",
      "[[-0.3333736  -0.16434776]\n",
      " [ 0.33764627 -0.22018467]]\n",
      "\n",
      "Weights (hidden to output):\n",
      "[[ 0.48089116 -0.19003156]\n",
      " [-0.55244421 -0.45991941]]\n",
      "\n",
      "Intercepts (biases):\n",
      "[array([-0.33538626, -0.10278294]), array([0.05303458, 0.90177731])]\n",
      "\n",
      "Mean Squared Error: 0.00027207396406977297\n",
      "Predicted Output using scikit-learn:\n",
      "[[-0.0336906   0.68126277]]\n",
      "\n",
      "Weights (input to hidden):\n",
      "[[-0.63627181  0.6594301 ]\n",
      " [ 0.41486508  0.64195924]]\n",
      "\n",
      "Weights (hidden to output):\n",
      "[[ 0.4461013  -0.20428701]\n",
      " [ 0.02145239  0.68018704]]\n",
      "\n",
      "Intercepts (biases):\n",
      "[array([ 0.14459544, -0.34170196]), array([-0.3010654 ,  0.39564181])]\n",
      "\n",
      "Mean Squared Error: 0.006803877141129049\n"
     ]
    }
   ],
   "source": [
    "from sklearn.neural_network import MLPRegressor\n",
    "from sklearn.metrics import mean_squared_error\n",
    "\n",
    "X = [[0.3, 0.8]]\n",
    "y = [[0.05, 0.6]]\n",
    "learning_rates = [0.5, 0.1, 0.01]\n",
    "\n",
    "for lr in learning_rates:\n",
    "    model = MLPRegressor(hidden_layer_sizes=(2,), activation='logistic', solver='sgd', learning_rate_init=lr, max_iter=10000)\n",
    "    model.fit(X, y)\n",
    "\n",
    "    predicted_output = model.predict(X)\n",
    "\n",
    "    print(\"Predicted Output using scikit-learn:\")\n",
    "    print(predicted_output)\n",
    "    print(\"\\nWeights (input to hidden):\")\n",
    "    print(model.coefs_[0])\n",
    "    print(\"\\nWeights (hidden to output):\")\n",
    "    print(model.coefs_[1])\n",
    "    \n",
    "\n",
    "    mse = mean_squared_error(y, predicted_output)\n",
    "    print(f\"\\nMean Squared Error: {mse}\")\n"
   ]
  },
  {
   "cell_type": "code",
   "execution_count": null,
   "metadata": {},
   "outputs": [],
   "source": []
  }
 ],
 "metadata": {
  "kernelspec": {
   "display_name": "Python 3",
   "language": "python",
   "name": "python3"
  },
  "language_info": {
   "codemirror_mode": {
    "name": "ipython",
    "version": 3
   },
   "file_extension": ".py",
   "mimetype": "text/x-python",
   "name": "python",
   "nbconvert_exporter": "python",
   "pygments_lexer": "ipython3",
   "version": "3.9.6"
  }
 },
 "nbformat": 4,
 "nbformat_minor": 2
}
